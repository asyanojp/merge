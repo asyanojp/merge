{
  "nbformat": 4,
  "nbformat_minor": 0,
  "metadata": {
    "colab": {
      "name": "merge.ipynb",
      "provenance": [],
      "authorship_tag": "ABX9TyNP0BygFq7F3jiMzjlyPPkj",
      "include_colab_link": true
    },
    "kernelspec": {
      "name": "python3",
      "display_name": "Python 3"
    }
  },
  "cells": [
    {
      "cell_type": "markdown",
      "metadata": {
        "id": "view-in-github",
        "colab_type": "text"
      },
      "source": [
        "<a href=\"https://colab.research.google.com/github/asyanojp/merge/blob/main/merge.ipynb\" target=\"_parent\"><img src=\"https://colab.research.google.com/assets/colab-badge.svg\" alt=\"Open In Colab\"/></a>"
      ]
    },
    {
      "cell_type": "markdown",
      "metadata": {
        "id": "pNL55rfjIBFO"
      },
      "source": [
        "### 使い方解説などは、こちらのサイトをご覧ください。\n",
        "https://asyano.jp/merge/"
      ]
    },
    {
      "cell_type": "code",
      "metadata": {
        "id": "2-YiFAubqhAP",
        "outputId": "1f2480c3-999b-46b3-aeab-9ed733ecbac6",
        "colab": {
          "base_uri": "https://localhost:8080/",
          "height": 134
        }
      },
      "source": [
        "#←①まず最初に実行ボタンを押す\n",
        "\n",
        "import os\n",
        "try:\n",
        "  print(os.mkdir(\"/content/pdffile\"))\n",
        "  print(\"左側に生成された、pdffileフォルダにpdfファイルをアップロードしてください。\")\n",
        "except:\n",
        "  print('すでに、ファイルが作成されているか、Google Colaboratory上に問題が生じています。')"
      ],
      "execution_count": 2,
      "outputs": [
        {
          "output_type": "error",
          "ename": "SyntaxError",
          "evalue": "ignored",
          "traceback": [
            "\u001b[0;36m  File \u001b[0;32m\"<ipython-input-2-0dd0f9c6b292>\"\u001b[0;36m, line \u001b[0;32m1\u001b[0m\n\u001b[0;31m    ←①まず最初に実行ボタンを押す\u001b[0m\n\u001b[0m                  ^\u001b[0m\n\u001b[0;31mSyntaxError\u001b[0m\u001b[0;31m:\u001b[0m invalid character in identifier\n"
          ]
        }
      ]
    },
    {
      "cell_type": "code",
      "metadata": {
        "id": "HHfsfA1Prsm8",
        "outputId": "1b993b3e-08df-4fc3-d31e-cb6bf2d30743",
        "colab": {
          "base_uri": "https://localhost:8080/",
          "height": 51
        }
      },
      "source": [
        "#←②PDFファイルをアップロードしたうえで、実行ボタンを押す\n",
        "\n",
        "!pip install PyPDF2\n",
        "import glob\n",
        "import shutil\n",
        "import PyPDF2\n",
        "\n",
        "try:\n",
        "  files = glob.glob(\"/content/pdffile/*\")\n",
        "  merger = PyPDF2.PdfFileMerger()\n",
        "  for file in files:\n",
        "    merger.append(file)\n",
        "  merger.write(\"/content/merged_file.pdf\")\n",
        "  merger.close()\n",
        "  shutil.rmtree(\"/content/pdffile/\")\n",
        "  print(\"pdfファイルの結合が完了しました。\")\n",
        "except:\n",
        "  print('アップロードされたファイルが適切でないか、Google Colaboratory上に問題が生じています。') \n"
      ],
      "execution_count": null,
      "outputs": [
        {
          "output_type": "stream",
          "text": [
            "Requirement already satisfied: PyPDF2 in /usr/local/lib/python3.6/dist-packages (1.26.0)\n",
            "pdfファイルの結合が完了しました。\n"
          ],
          "name": "stdout"
        }
      ]
    },
    {
      "cell_type": "code",
      "metadata": {
        "id": "L_M4hp7Orttn",
        "outputId": "af35183f-9882-4666-8028-cf4087fa1920",
        "colab": {
          "base_uri": "https://localhost:8080/",
          "height": 34
        }
      },
      "source": [
        "#←③結合済みのPDFファイルをダウンロード後に、実行ボタンを押す。\n",
        "\n",
        "import os\n",
        "try:\n",
        "  os.remove(\"/content/merged_file.pdf\")\n",
        "  print(\"結合済みのファイルを削除しました。ご利用ありがとうございました。\")\n",
        "except:\n",
        "  print('結合済みのファイルを削除できませんでした。')"
      ],
      "execution_count": null,
      "outputs": [
        {
          "output_type": "stream",
          "text": [
            "結合済みのファイルを削除しました。ご利用ありがとうございました。\n"
          ],
          "name": "stdout"
        }
      ]
    }
  ]
}