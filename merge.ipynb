{
  "nbformat": 4,
  "nbformat_minor": 0,
  "metadata": {
    "colab": {
      "name": "merge.ipynb",
      "provenance": [],
      "authorship_tag": "ABX9TyNP0BygFq7F3jiMzjlyPPkj",
      "include_colab_link": true
    },
    "kernelspec": {
      "name": "python3",
      "display_name": "Python 3"
    }
  },
  "cells": [
    {
      "cell_type": "markdown",
      "metadata": {
        "id": "view-in-github",
        "colab_type": "text"
      },
      "source": [
        "<a href=\"https://colab.research.google.com/github/asyanojp/merge/blob/main/merge.ipynb\" target=\"_parent\"><img src=\"https://colab.research.google.com/assets/colab-badge.svg\" alt=\"Open In Colab\"/></a>"
      ]
    },
    {
      "cell_type": "markdown",
      "metadata": {
        "id": "pNL55rfjIBFO"
      },
      "source": [
        "### 使い方解説などは、こちらのサイトをご覧ください。\n",
        "https://asyano.jp/merge/"
      ]
    },
    {
      "cell_type": "code",
      "metadata": {
        "id": "2-YiFAubqhAP"
      },
      "source": [
        "#←①まず最初に実行ボタンを押す\n",
        "\n",
        "import os\n",
        "try:\n",
        "  print(os.mkdir(\"/content/pdffile\"))\n",
        "  print(\"左側に生成された、pdffileフォルダにpdfファイルをアップロードしてください。\")\n",
        "except:\n",
        "  print('すでに、ファイルが作成されているか、Google Colaboratory上に問題が生じています。')"
      ],
      "execution_count": null,
      "outputs": []
    },
    {
      "cell_type": "code",
      "metadata": {
        "id": "HHfsfA1Prsm8"
      },
      "source": [
        "#←②PDFファイルをアップロードしたうえで、実行ボタンを押す\n",
        "\n",
        "!pip install PyPDF2\n",
        "import glob\n",
        "import shutil\n",
        "import PyPDF2\n",
        "\n",
        "try:\n",
        "  files = glob.glob(\"/content/pdffile/*\")\n",
        "  merger = PyPDF2.PdfFileMerger()\n",
        "  for file in files:\n",
        "    merger.append(file)\n",
        "  merger.write(\"/content/merged_file.pdf\")\n",
        "  merger.close()\n",
        "  shutil.rmtree(\"/content/pdffile/\")\n",
        "  print(\"pdfファイルの結合が完了しました。\")\n",
        "except:\n",
        "  print('アップロードされたファイルが適切でないか、Google Colaboratory上に問題が生じています。') \n"
      ],
      "execution_count": null,
      "outputs": []
    },
    {
      "cell_type": "code",
      "metadata": {
        "id": "L_M4hp7Orttn"
      },
      "source": [
        "#←③結合済みのPDFファイルをダウンロード後に、実行ボタンを押す。\n",
        "\n",
        "import os\n",
        "try:\n",
        "  os.remove(\"/content/merged_file.pdf\")\n",
        "  print(\"結合済みのファイルを削除しました。ご利用ありがとうございました。\")\n",
        "except:\n",
        "  print('結合済みのファイルを削除できませんでした。')"
      ],
      "execution_count": null,
      "outputs": []
    }
  ]
}